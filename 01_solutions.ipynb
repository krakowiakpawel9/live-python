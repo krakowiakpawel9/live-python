{
  "nbformat": 4,
  "nbformat_minor": 0,
  "metadata": {
    "colab": {
      "name": "Untitled107.ipynb",
      "provenance": [],
      "authorship_tag": "ABX9TyPopwVt7FaKcLpoRmSTiiBv",
      "include_colab_link": true
    },
    "kernelspec": {
      "name": "python3",
      "display_name": "Python 3"
    }
  },
  "cells": [
    {
      "cell_type": "markdown",
      "metadata": {
        "id": "view-in-github",
        "colab_type": "text"
      },
      "source": [
        "<a href=\"https://colab.research.google.com/github/krakowiakpawel9/live-python/blob/master/01_solutions.ipynb\" target=\"_parent\"><img src=\"https://colab.research.google.com/assets/colab-badge.svg\" alt=\"Open In Colab\"/></a>"
      ]
    },
    {
      "cell_type": "markdown",
      "metadata": {
        "id": "zpKMpAe3-OfI",
        "colab_type": "text"
      },
      "source": [
        "Zadanie 3"
      ]
    },
    {
      "cell_type": "code",
      "metadata": {
        "id": "xtfcA32Z8nMB",
        "colab_type": "code",
        "outputId": "a54900e4-b966-4b19-ad7a-41bc8be9d58a",
        "colab": {
          "base_uri": "https://localhost:8080/",
          "height": 87
        }
      },
      "source": [
        "from scipy.constants import pi, g, c\n",
        "import math\n",
        "\n",
        "print(f'Liczba pi: {pi}')\n",
        "print(f'Podstawa logarytmu: {math.e}')\n",
        "print(f'Przyśpieszenie ziemskie: {g}')\n",
        "print(f'Prędkość światła: {c}')"
      ],
      "execution_count": 0,
      "outputs": [
        {
          "output_type": "stream",
          "text": [
            "Liczba pi: 3.141592653589793\n",
            "Podstawa logarytmu: 2.718281828459045\n",
            "Przyśpieszenie ziemskie: 9.80665\n",
            "Prędkość światła: 299792458.0\n"
          ],
          "name": "stdout"
        }
      ]
    },
    {
      "cell_type": "code",
      "metadata": {
        "id": "BsvwfaeV8WRk",
        "colab_type": "code",
        "outputId": "0a73aa20-e3b3-4523-e8b9-aff7b73d396b",
        "colab": {
          "base_uri": "https://localhost:8080/",
          "height": 52
        }
      },
      "source": [
        "school_name = 'nazwa_szkoły'\n",
        "email_address = 'sample@domain.com'\n",
        "\n",
        "print(f'Nazwa szkoły: {school_name}')\n",
        "print(f'Adres email: {email_address}')"
      ],
      "execution_count": 0,
      "outputs": [
        {
          "output_type": "stream",
          "text": [
            "Nazwa szkoły: nazwa_szkoły\n",
            "Adres email: sample@domain.com\n"
          ],
          "name": "stdout"
        }
      ]
    },
    {
      "cell_type": "markdown",
      "metadata": {
        "id": "GsX5-N8H-fCp",
        "colab_type": "text"
      },
      "source": [
        "Zadanie 2"
      ]
    },
    {
      "cell_type": "code",
      "metadata": {
        "id": "QLoiyGNs-EWo",
        "colab_type": "code",
        "outputId": "cdff21ef-fd2a-40a0-b155-2019c76377a5",
        "colab": {
          "base_uri": "https://localhost:8080/",
          "height": 52
        }
      },
      "source": [
        "math_score = int(input('Podaj wynik z egzaminu maturalnego z matematyki: '))\n",
        "is_physical_laureate = True\n",
        "\n",
        "if is_physical_laureate and math_score >= 55:\n",
        "    print('dostałeś się na studia')\n",
        "else:\n",
        "    print('spróbuj za rok')"
      ],
      "execution_count": 0,
      "outputs": [
        {
          "output_type": "stream",
          "text": [
            "Podaj wynik z egzaminu maturalnego z matematyki: 57\n",
            "dostałeś się na studia\n"
          ],
          "name": "stdout"
        }
      ]
    },
    {
      "cell_type": "markdown",
      "metadata": {
        "id": "JVcrTAwW_a0t",
        "colab_type": "text"
      },
      "source": [
        "Zadanie 3"
      ]
    },
    {
      "cell_type": "code",
      "metadata": {
        "id": "cLzuICei_Nu-",
        "colab_type": "code",
        "outputId": "69938b67-c04d-4e15-8720-92fe26c285f3",
        "colab": {
          "base_uri": "https://localhost:8080/",
          "height": 52
        }
      },
      "source": [
        "year = int(input('Podaj rok: '))\n",
        "\n",
        "if year % 4 == 0 and year % 100 != 0:\n",
        "    print(f'Rok {year} jest przestępny.')\n",
        "else:\n",
        "    print(f'Rok {year} nie jest przestępny.')"
      ],
      "execution_count": 0,
      "outputs": [
        {
          "output_type": "stream",
          "text": [
            "Podaj rok: 2020\n",
            "Rok 2020 jest przestępny.\n"
          ],
          "name": "stdout"
        }
      ]
    },
    {
      "cell_type": "markdown",
      "metadata": {
        "id": "_YdI-TgDkBBU",
        "colab_type": "text"
      },
      "source": [
        "## Zadania c. d."
      ]
    },
    {
      "cell_type": "markdown",
      "metadata": {
        "id": "_OYdnNXmkEhd",
        "colab_type": "text"
      },
      "source": [
        "Zad 1 (I sposób)"
      ]
    },
    {
      "cell_type": "code",
      "metadata": {
        "id": "sJKyORFdkCkZ",
        "colab_type": "code",
        "colab": {
          "base_uri": "https://localhost:8080/",
          "height": 34
        },
        "outputId": "a5230a76-c4be-4982-eabb-00114c5456fc"
      },
      "source": [
        "numbers =  [2, 6, 12, 7, 9]\n",
        "\n",
        "for idx, number in enumerate(numbers):\n",
        "    numbers[idx] = number ** 2\n",
        "\n",
        "print(numbers)"
      ],
      "execution_count": 3,
      "outputs": [
        {
          "output_type": "stream",
          "text": [
            "[4, 36, 144, 49, 81]\n"
          ],
          "name": "stdout"
        }
      ]
    },
    {
      "cell_type": "markdown",
      "metadata": {
        "id": "MrRyQJcgkdXe",
        "colab_type": "text"
      },
      "source": [
        "Zad 1 (II sposób)"
      ]
    },
    {
      "cell_type": "code",
      "metadata": {
        "id": "QxbPt0arkJ6X",
        "colab_type": "code",
        "colab": {
          "base_uri": "https://localhost:8080/",
          "height": 34
        },
        "outputId": "83039208-803a-4c21-8d8c-d4499bbe0391"
      },
      "source": [
        "numbers =  [2, 6, 12, 7, 9]\n",
        "numbers = [number ** 2 for number in numbers]\n",
        "print(numbers)"
      ],
      "execution_count": 4,
      "outputs": [
        {
          "output_type": "stream",
          "text": [
            "[4, 36, 144, 49, 81]\n"
          ],
          "name": "stdout"
        }
      ]
    },
    {
      "cell_type": "code",
      "metadata": {
        "id": "h05uYiD0ki9v",
        "colab_type": "code",
        "colab": {}
      },
      "source": [
        ""
      ],
      "execution_count": 0,
      "outputs": []
    }
  ]
}